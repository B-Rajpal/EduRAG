{
 "cells": [
  {
   "cell_type": "code",
   "execution_count": 2,
   "metadata": {},
   "outputs": [
    {
     "name": "stderr",
     "output_type": "stream",
     "text": [
      "e:\\Finalyear_project\\.venv\\Lib\\site-packages\\tqdm\\auto.py:21: TqdmWarning: IProgress not found. Please update jupyter and ipywidgets. See https://ipywidgets.readthedocs.io/en/stable/user_install.html\n",
      "  from .autonotebook import tqdm as notebook_tqdm\n"
     ]
    }
   ],
   "source": [
    "from pydantic import BaseModel\n",
    "from langchain.text_splitter import TokenTextSplitter\n",
    "from langchain_community.vectorstores import FAISS\n",
    "from langchain.chains import RetrievalQA\n",
    "from langchain.document_loaders import PyPDFLoader\n",
    "from langchain.prompts import PromptTemplate\n",
    "from sentence_transformers import SentenceTransformer\n",
    "from langchain.embeddings import HuggingFaceEmbeddings\n",
    "import ollama\n",
    "from langchain.llms.base import LLM"
   ]
  },
  {
   "cell_type": "markdown",
   "metadata": {},
   "source": [
    "# load the pdf\n",
    "\n"
   ]
  },
  {
   "cell_type": "code",
   "execution_count": 4,
   "metadata": {},
   "outputs": [],
   "source": [
    "loader = PyPDFLoader(\"example1.pdf\")\n",
    "documents = loader.load()\n"
   ]
  },
  {
   "cell_type": "markdown",
   "metadata": {},
   "source": [
    "# Embeddings "
   ]
  },
  {
   "cell_type": "code",
   "execution_count": 6,
   "metadata": {},
   "outputs": [
    {
     "name": "stderr",
     "output_type": "stream",
     "text": [
      "C:\\Users\\rajpa\\AppData\\Local\\Temp\\ipykernel_10156\\298322004.py:2: LangChainDeprecationWarning: The class `HuggingFaceEmbeddings` was deprecated in LangChain 0.2.2 and will be removed in 1.0. An updated version of the class exists in the :class:`~langchain-huggingface package and should be used instead. To use it run `pip install -U :class:`~langchain-huggingface` and import as `from :class:`~langchain_huggingface import HuggingFaceEmbeddings``.\n",
      "  embedding_model = HuggingFaceEmbeddings(model_name='all-MiniLM-L6-v2')\n"
     ]
    }
   ],
   "source": [
    "\n",
    "token_splitter = TokenTextSplitter(chunk_size=500, chunk_overlap=50) \n",
    "embedding_model = HuggingFaceEmbeddings(model_name='all-MiniLM-L6-v2')\n",
    "texts = token_splitter.split_documents(documents)"
   ]
  },
  {
   "cell_type": "code",
   "execution_count": 7,
   "metadata": {},
   "outputs": [],
   "source": [
    "db = FAISS.from_documents(texts,embedding = embedding_model)"
   ]
  },
  {
   "cell_type": "code",
   "execution_count": 8,
   "metadata": {},
   "outputs": [],
   "source": [
    "# Define a custom LLM wrapper for Ollama to integrate with LangChain\n",
    "class OllamaLLM(LLM, BaseModel):\n",
    "    model_name: str  # Explicitly declare the model_name field\n",
    "\n",
    "    def _call(self, prompt: str, stop=None):\n",
    "        response = ollama.generate(model=self.model_name, prompt=prompt)\n",
    "        print(response)\n",
    "        return response[\"response\"]\n",
    "\n",
    "    @property\n",
    "    def _llm_type(self):\n",
    "        return \"ollama\""
   ]
  },
  {
   "cell_type": "code",
   "execution_count": 17,
   "metadata": {},
   "outputs": [],
   "source": [
    "\n",
    "# Define the prompt template\n",
    "prompt_template = \"\"\"Use the following pieces of context to answer the question at the end.\n",
    "If you don't know the answer, just say that you don't know, don't try to make up an answer.\n",
    "\n",
    "{context}\n",
    "\n",
    "Question: {question}\n",
    "Answer:\"\"\"\n",
    "PROMPT = PromptTemplate(\n",
    "    template=prompt_template, input_variables=[\"context\", \"question\"]\n",
    ")\n",
    "\n",
    "# Initialize the Ollama model using the custom LLM wrapper\n",
    "ollama_llm = OllamaLLM(model_name=\"llama3.2\")\n",
    "\n",
    "# Define the RetrievalQA chain\n",
    "qa = RetrievalQA.from_chain_type(\n",
    "    llm=ollama_llm,\n",
    "    chain_type=\"stuff\",\n",
    "    retriever=db.as_retriever(),\n",
    "    chain_type_kwargs={\"prompt\": PROMPT},\n",
    "    return_source_documents=True\n",
    ")\n",
    "\n",
    "# Define the RAG pipeline function\n",
    "def rag_pipeline(query):\n",
    "    result = qa({\"query\": query})\n",
    "    answer = result['result']\n",
    "    source_documents = result['source_documents']\n",
    "    context = [doc.page_content for doc in source_documents]\n",
    "    return  answer"
   ]
  },
  {
   "cell_type": "code",
   "execution_count": 18,
   "metadata": {},
   "outputs": [
    {
     "name": "stdout",
     "output_type": "stream",
     "text": [
      "model='llama3.2' created_at='2024-12-15T15:41:17.8450383Z' done=True done_reason='stop' total_duration=41647788800 load_duration=38839800 prompt_eval_count=1175 prompt_eval_duration=452975000 eval_count=290 eval_duration=41152422000 response='Here is a simple R program that uses a `for` loop to calculate the sum of all even numbers between two given numbers:\\n\\n```r\\n# Function to print Fibonacci series\\nfibonacci_series <- function(n) {\\n  fib <- numeric(n)\\n  fib[1] <- 0\\n  fib[2] <- 1\\n  for (i in 3:n) {\\n    fib[i] <- fib[i-1] + fib[i-2]\\n  }\\n  return(fib)\\n}\\n\\n# Example usage:\\nn_terms <- 10\\nfibonacci_result <- fibonacci_series(n_terms)\\n\\n# Function to calculate sum of even numbers between two given numbers\\nsum_even_numbers <- function(a, b) {\\n  total_sum <- 0\\n  for (i in a:b) {\\n    if (i %% 2 == 0) {\\n      total_sum <- total_sum + i\\n    }\\n  }\\n  return(total_sum)\\n}\\n\\n# Call the functions with given values\\na <- 1\\nb <- 20\\nsum_result <- sum_even_numbers(a, b)\\n\\n# Print the results\\nprint(fibonacci_result)\\nprint(sum_result)\\n```\\n\\nIn this program, we first define a function `fibonacci_series` to calculate and print the Fibonacci series up to a specified number of terms. We also define another function `sum_even_numbers` to find the sum of all even numbers between two given numbers.' context=[128006, 9125, 128007, 271, 38766, 1303, 33025, 2696, 25, 6790, 220, 2366, 18, 271, 128009, 128006, 882, 128007, 271, 10464, 279, 2768, 9863, 315, 2317, 311, 4320, 279, 3488, 520, 279, 842, 627, 2746, 499, 1541, 956, 1440, 279, 4320, 11, 1120, 2019, 430, 499, 1541, 956, 1440, 11, 1541, 956, 1456, 311, 1304, 709, 459, 4320, 382, 6830, 63, 2000, 63, 10719, 2058, 14217, 71, 583, 70, 383, 613, 4174, 258, 6509, 45140, 9866, 12898, 791, 63, 333, 63, 25159, 50483, 333, 3473, 900, 1082, 1055, 51526, 333, 708, 11, 723, 47965, 998, 1820, 63, 1264, 63, 12898, 1016, 295, 354, 1147, 372, 1073, 17206, 38478, 285, 78691, 438, 53313, 627, 806, 13, 9842, 64, 49, 15252, 9210, 1194, 267, 383, 76426, 40445, 4101, 91173, 596, 300, 6592, 49, 15252, 3565, 1616, 1820, 37, 581, 263, 4575, 285, 4804, 7717, 78, 300, 45140, 4174, 78, 1064, 1026, 512, 74694, 81, 2, 5263, 3565, 1616, 37, 581, 263, 4575, 285, 4804, 76426, 40445, 36115, 46442, 1723, 1471, 6226, 76426, 46442, 20173, 1471, 8, 674, 4110, 276, 12857, 76108, 371, 537, 461, 37, 581, 263, 4575, 258, 372, 1941, 76426, 58, 16, 35239, 12, 15, 674, 5451, 37, 581, 263, 4575, 258, 900, 76426, 58, 17, 35239, 12, 16, 674, 16041, 37, 581, 263, 4575, 258, 900, 198, 2000, 1998, 258, 18, 19822, 6226, 76426, 1004, 35239, 12, 76426, 1004, 12, 16, 7727, 76426, 1004, 12, 17, 60, 674, 59008, 266, 774, 268, 428, 37, 581, 263, 4575, 258, 900, 534, 693, 968, 581, 10792, 2, 13617, 355, 8703, 38598, 46442, 605, 2, 2903, 78, 1064, 1026, 258, 1820, 37, 581, 263, 4575, 285, 4804, 76426, 40445, 5400, 46442, 76426, 40445, 36115, 1471, 38598, 8, 1374, 968, 581, 40445, 5400, 8, 674, 5207, 25, 10731, 12422, 24288, 11702, 19, 14196, 4077, 14711, 70869, 198, 66106, 1723, 63, 76426, 40445, 36115, 63, 36697, 267, 383, 37, 581, 263, 4575, 285, 4804, 7717, 78, 63, 77, 63, 18853, 12898, 2181, 9613, 450, 478, 383, 3983, 20375, 37, 581, 263, 4575, 258, 372, 1941, 438, 4881, 64, 63, 2000, 63, 385, 2985, 12255, 631, 72736, 72457, 38478, 12898, 1016, 13213, 495, 287, 20473, 285, 78691, 438, 53313, 627, 717, 13, 8012, 391, 648, 16320, 13544, 830, 1573, 287, 327, 3825, 9464, 26125, 258, 1820, 630, 1073, 1860, 1279, 512, 39, 22485, 5067, 27844, 3101, 52336, 6509, 3965, 2300, 11454, 220, 1041, 51154, 1041, 8586, 753, 1003, 371, 49, 15252, 55880, 979, 391, 648, 16320, 71627, 797, 2116, 327, 3825, 9464, 26125, 512, 74694, 81, 271, 12, 334, 47688, 10603, 96618, 2520, 10719, 16810, 1395, 645, 325, 544, 5499, 54895, 3295, 1534, 39263, 258, 49, 11, 36046, 2000, 27995, 291, 77749, 13, 4959, 37822, 4919, 723, 2017, 2025, 13387, 1802, 49818, 3306, 1223, 5807, 1636, 998, 22124, 4908, 63, 10492, 55358, 12898, 334, 3866, 2065, 96618, 49, 285, 99968, 2000, 3295, 1534, 39263, 11, 8370, 61917, 412, 29588, 88008, 83551, 627, 334, 10464, 38402, 334, 11184, 334, 8705, 1113, 24798, 12132, 96618, 10464, 1285, 2000, 9446, 267, 9379, 17483, 3565, 299, 1634, 325, 91555, 606, 1729, 606, 12898, 334, 59008, 1113, 9219, 8157, 988, 96618, 1671, 967, 278, 3395, 28789, 6370, 11, 47321, 11, 269, 1605, 351, 8157, 988, 582, 2177, 36773, 19129, 627, 334, 13617, 96618, 74694, 3423, 2426, 46442, 15, 2000, 1998, 258, 16, 25, 20, 6226, 5143, 46442, 5143, 21905, 92, 1374, 23689, 8, 674, 5207, 25, 868, 14196, 4077, 14711, 18, 95386, 4357, 3806, 198, 334, 5116, 96618, 791, 63, 3556, 63, 10719, 265, 43054, 398, 12010, 2142, 370, 1039, 1073, 1889, 300, 4930, 300, 300, 45140, 9233, 48684, 496, 361, 627, 334, 34990, 96618, 74694, 81, 3556, 48589, 6226, 2, 64791, 11269, 12010, 332, 365, 71, 458, 9233, 3843, 361, 5658, 85374, 334, 35891, 334, 11184, 334, 47688, 10603, 96618, 14354, 321, 37043, 63, 2000, 63, 83551, 11, 63, 3556, 63, 10719, 16810, 1147, 437, 2084, 1527, 62344, 18934, 58710, 20782, 454, 9233, 258, 12821, 2396, 24126, 81730, 811, 269, 58710, 20782, 454, 54410, 35676, 15487, 30096, 81768, 13966, 16902, 12898, 334, 644, 26806, 4357, 3806, 96618, 33099, 25849, 29651, 587, 17996, 28389, 1820, 9233, 86, 4618, 688, 1870, 14504, 55282, 295, 1073, 714, 11, 300, 5481, 269, 398, 5919, 1571, 10719, 16810, 27152, 998, 258, 26806, 53821, 627, 334, 10464, 38402, 334, 11184, 334, 22500, 36535, 96618, 1671, 306, 12301, 900, 1073, 68684, 285, 1962, 5391, 258, 60420, 438, 20080, 942, 23051, 16902, 382, 34590, 4235, 32, 198, 16, 13, 83017, 5269, 700, 2549, 368, 1723, 1816, 16319, 49, 83, 461, 413, 402, 542, 1527, 64, 1723, 13, 21335, 300, 6592, 8858, 2940, 64, 1723, 693, 267, 17082, 372, 1073, 4483, 263, 372, 1941, 11829, 63, 693, 55358, 1723, 258, 49, 285, 2656, 43681, 1007, 1463, 1820, 26591, 774, 460, 1723, 14724, 693, 51861, 63, 693, 55358, 3510, 4841, 80824, 318, 44287, 13966, 267, 383, 1723, 438, 693, 267, 17082, 45140, 838, 14127, 8942, 762, 14283, 627, 14711, 13617, 25, 9370, 1073, 11874, 28336, 198, 8586, 596, 300, 6592, 8858, 1073, 64, 1723, 9210, 693, 267, 17082, 372, 14450, 55767, 372, 1941, 512, 74694, 81, 2, 2685, 35518, 1723, 43681, 372, 15930, 263, 372, 1941, 1264, 34064, 46442, 1723, 2948, 8568, 6226, 1407, 46442, 64, 36193, 2, 59008, 266, 774, 288, 372, 693, 4556, 8, 674, 5715, 700, 288, 495, 534, 2, 7368, 339, 830, 600, 1264, 5400, 46442, 1264, 34064, 7, 20, 11, 18, 8, 1374, 20292, 5400, 8, 674, 5207, 25, 23, 14196, 4077, 14711, 70869, 198, 66106, 1723, 63, 1264, 34064, 63, 23609, 267, 86, 454, 640, 2481, 11, 63, 64, 63, 438, 63, 65, 63, 12898, 2181, 36697, 267, 383, 404, 1264, 438, 44569, 85986, 1820, 10014, 63, 1407, 63, 12898, 791, 63, 693, 4556, 47286, 95687, 408, 267, 383, 970, 1073, 63, 1407, 63, 1445, 83, 363, 1964, 19030, 1723, 86, 5171, 4841, 12898, 644, 576, 5756, 11, 74826, 63, 1264, 34064, 7, 20, 11, 18, 47286, 4310, 63, 23, 7964, 8370, 380, 12301, 53313, 4286, 10492, 7799, 28112, 50768, 28328, 1899, 29775, 8, 74694, 12, 63, 55, 45722, 88070, 2619, 12898, 63, 44, 50768, 63, 19258, 16, 63, 2000, 1849, 11, 63, 17, 63, 2000, 16773, 12898, 63, 63821, 45722, 791, 1723, 998, 10492, 627, 17, 13, 334, 13617, 96618, 74694, 81, 2, 4110, 309, 2619, 2465, 10403, 46442, 18602, 7, 16, 25, 717, 10337, 654, 28, 18, 340, 2, 29597, 1723, 11222, 4336, 20292, 91487, 646, 6370, 46442, 10492, 14267, 10403, 11, 16, 69536, 340, 2, 29597, 1723, 55880, 1309, 82, 46776, 8, 6361, 81966, 46442, 10492, 14267, 10403, 11, 17, 11, 14622, 8, 14196, 4077, 18, 13, 334, 5207, 334, 11184, 63, 654, 646, 6370, 45722, 3866, 1073, 1264, 82, 8984, 654, 12898, 63, 6361, 81966, 45722, 3866, 1073, 47321, 8984, 6361, 627, 2028, 4492, 56967, 1348, 544, 5499, 81730, 811, 582, 2177, 18602, 60339, 627, 1691, 13, 1796, 279, 277, 27011, 438, 7035, 33938, 1980, 14924, 25, 9842, 264, 432, 2068, 311, 1505, 279, 2694, 315, 682, 1524, 5219, 1990, 1403, 2728, 5219, 1701, 369, 6471, 627, 16533, 25, 128009, 128006, 78191, 128007, 271, 8586, 374, 264, 4382, 432, 2068, 430, 5829, 264, 1595, 2000, 63, 6471, 311, 11294, 279, 2694, 315, 682, 1524, 5219, 1990, 1403, 2728, 5219, 1473, 74694, 81, 198, 2, 5830, 311, 1194, 80783, 4101, 198, 76426, 40445, 36115, 9297, 734, 1471, 8, 341, 220, 16178, 9297, 25031, 1471, 340, 220, 16178, 58, 16, 60, 9297, 220, 15, 198, 220, 16178, 58, 17, 60, 9297, 220, 16, 198, 220, 369, 320, 72, 304, 220, 18, 19822, 8, 341, 262, 16178, 1004, 60, 9297, 16178, 1004, 12, 16, 60, 489, 16178, 1004, 12, 17, 933, 220, 457, 220, 471, 968, 581, 340, 633, 2, 13688, 10648, 512, 77, 38598, 9297, 220, 605, 198, 76426, 40445, 5400, 9297, 76798, 36115, 1471, 38598, 696, 2, 5830, 311, 11294, 2694, 315, 1524, 5219, 1990, 1403, 2728, 5219, 198, 1264, 69447, 34064, 9297, 734, 2948, 11, 293, 8, 341, 220, 2860, 10370, 9297, 220, 15, 198, 220, 369, 320, 72, 304, 264, 45073, 8, 341, 262, 422, 320, 72, 24158, 220, 17, 624, 220, 15, 8, 341, 415, 2860, 10370, 9297, 2860, 10370, 489, 602, 198, 262, 457, 220, 457, 220, 471, 23689, 10370, 340, 633, 2, 7290, 279, 5865, 449, 2728, 2819, 198, 64, 9297, 220, 16, 198, 65, 9297, 220, 508, 198, 1264, 5400, 9297, 2694, 69447, 34064, 2948, 11, 293, 696, 2, 8377, 279, 3135, 198, 1374, 968, 581, 40445, 5400, 340, 1374, 20292, 5400, 340, 14196, 19884, 644, 420, 2068, 11, 584, 1176, 7124, 264, 734, 1595, 76426, 40445, 36115, 63, 311, 11294, 323, 1194, 279, 80783, 4101, 709, 311, 264, 5300, 1396, 315, 3878, 13, 1226, 1101, 7124, 2500, 734, 1595, 1264, 69447, 34064, 63, 311, 1505, 279, 2694, 315, 682, 1524, 5219, 1990, 1403, 2728, 5219, 13]\n",
      "Here is a simple R program that uses a `for` loop to calculate the sum of all even numbers between two given numbers:\n",
      "\n",
      "```r\n",
      "# Function to print Fibonacci series\n",
      "fibonacci_series <- function(n) {\n",
      "  fib <- numeric(n)\n",
      "  fib[1] <- 0\n",
      "  fib[2] <- 1\n",
      "  for (i in 3:n) {\n",
      "    fib[i] <- fib[i-1] + fib[i-2]\n",
      "  }\n",
      "  return(fib)\n",
      "}\n",
      "\n",
      "# Example usage:\n",
      "n_terms <- 10\n",
      "fibonacci_result <- fibonacci_series(n_terms)\n",
      "\n",
      "# Function to calculate sum of even numbers between two given numbers\n",
      "sum_even_numbers <- function(a, b) {\n",
      "  total_sum <- 0\n",
      "  for (i in a:b) {\n",
      "    if (i %% 2 == 0) {\n",
      "      total_sum <- total_sum + i\n",
      "    }\n",
      "  }\n",
      "  return(total_sum)\n",
      "}\n",
      "\n",
      "# Call the functions with given values\n",
      "a <- 1\n",
      "b <- 20\n",
      "sum_result <- sum_even_numbers(a, b)\n",
      "\n",
      "# Print the results\n",
      "print(fibonacci_result)\n",
      "print(sum_result)\n",
      "```\n",
      "\n",
      "In this program, we first define a function `fibonacci_series` to calculate and print the Fibonacci series up to a specified number of terms. We also define another function `sum_even_numbers` to find the sum of all even numbers between two given numbers.\n"
     ]
    }
   ],
   "source": [
    "print(rag_pipeline(\"Write a R program to find the sum of all even numbers between two given numbers using for loop.\"))"
   ]
  },
  {
   "cell_type": "code",
   "execution_count": null,
   "metadata": {},
   "outputs": [],
   "source": []
  }
 ],
 "metadata": {
  "kernelspec": {
   "display_name": ".venv",
   "language": "python",
   "name": "python3"
  },
  "language_info": {
   "codemirror_mode": {
    "name": "ipython",
    "version": 3
   },
   "file_extension": ".py",
   "mimetype": "text/x-python",
   "name": "python",
   "nbconvert_exporter": "python",
   "pygments_lexer": "ipython3",
   "version": "3.12.6"
  }
 },
 "nbformat": 4,
 "nbformat_minor": 2
}
